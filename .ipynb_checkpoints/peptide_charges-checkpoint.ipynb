{
 "cells": [
  {
   "cell_type": "code",
   "execution_count": 1,
   "id": "protected-myrtle",
   "metadata": {},
   "outputs": [],
   "source": [
    "import pandas as pd\n",
    "import numpy as np\n",
    "import seaborn as sns"
   ]
  },
  {
   "cell_type": "code",
   "execution_count": 2,
   "id": "talented-things",
   "metadata": {},
   "outputs": [],
   "source": [
    "def map_cols(df):\n",
    "    sortlist = [\"Invalid\", \"Too High\", \"Too Low\", \"Valid\"]\n",
    "    df = df.copy()\n",
    "    df[col_mz] = df[col_mass] / df[col_pos_count]\n",
    "    df[col_valid_mz] = \"Valid\"\n",
    "    df.loc[df[col_mz] > mz_range_max, col_valid_mz] = \"Too High\"\n",
    "    df.loc[df[col_mz] < mz_range_min, col_valid_mz] = \"Too Low\"\n",
    "    df.loc[(df[col_pos_count] == 0) | (df[col_pos_count] == 1), col_valid_mz] = \"Invalid\"\n",
    "    df[col_valid_mz] = pd.Categorical(\n",
    "        df[col_valid_mz],\n",
    "        categories=sortlist,\n",
    "        ordered=True\n",
    "    )\n",
    "    return df\n",
    "    #df[col_valid_mz] = (df[col_mz] <= mz_range_max) & (df[col_mz] >= mz_range_min)"
   ]
  },
  {
   "cell_type": "code",
   "execution_count": 3,
   "id": "typical-helen",
   "metadata": {},
   "outputs": [],
   "source": [
    "df = pd.read_csv(\"input.csv\")"
   ]
  },
  {
   "cell_type": "code",
   "execution_count": 4,
   "id": "shaped-disease",
   "metadata": {},
   "outputs": [
    {
     "data": {
      "text/html": [
       "<div>\n",
       "<style scoped>\n",
       "    .dataframe tbody tr th:only-of-type {\n",
       "        vertical-align: middle;\n",
       "    }\n",
       "\n",
       "    .dataframe tbody tr th {\n",
       "        vertical-align: top;\n",
       "    }\n",
       "\n",
       "    .dataframe thead th {\n",
       "        text-align: right;\n",
       "    }\n",
       "</style>\n",
       "<table border=\"1\" class=\"dataframe\">\n",
       "  <thead>\n",
       "    <tr style=\"text-align: right;\">\n",
       "      <th></th>\n",
       "      <th>Protein</th>\n",
       "      <th>Missed Cleavages Max</th>\n",
       "      <th>Mass</th>\n",
       "      <th>Position</th>\n",
       "      <th>Missed Clevages</th>\n",
       "      <th>Sequence</th>\n",
       "    </tr>\n",
       "  </thead>\n",
       "  <tbody>\n",
       "    <tr>\n",
       "      <th>0</th>\n",
       "      <td>RhoA</td>\n",
       "      <td>1</td>\n",
       "      <td>5397.5817</td>\n",
       "      <td>52-98</td>\n",
       "      <td>1</td>\n",
       "      <td>QVELALWDTAGQEDYDRLRP LSYPDTDVILMCFSIDSPDS LENIPEK</td>\n",
       "    </tr>\n",
       "    <tr>\n",
       "      <th>1</th>\n",
       "      <td>RhoA</td>\n",
       "      <td>1</td>\n",
       "      <td>4763.2310</td>\n",
       "      <td>28-68</td>\n",
       "      <td>1</td>\n",
       "      <td>DQFPEVYVPTVFENYVADIE VDGKQVELALWDTAGQEDYD R</td>\n",
       "    </tr>\n",
       "    <tr>\n",
       "      <th>2</th>\n",
       "      <td>RhoA</td>\n",
       "      <td>1</td>\n",
       "      <td>4148.0606</td>\n",
       "      <td>69-104</td>\n",
       "      <td>1</td>\n",
       "      <td>LRPLSYPDTDVILMCFSIDS PDSLENIPEKWTPEVK</td>\n",
       "    </tr>\n",
       "    <tr>\n",
       "      <th>3</th>\n",
       "      <td>RhoA</td>\n",
       "      <td>1</td>\n",
       "      <td>3777.8971</td>\n",
       "      <td>19-51</td>\n",
       "      <td>1</td>\n",
       "      <td>TCLLIVFSKDQFPEVYVPTV FENYVADIEVDGK</td>\n",
       "    </tr>\n",
       "    <tr>\n",
       "      <th>4</th>\n",
       "      <td>RhoA</td>\n",
       "      <td>1</td>\n",
       "      <td>3407.6749</td>\n",
       "      <td>69-98</td>\n",
       "      <td>0</td>\n",
       "      <td>LRPLSYPDTDVILMCFSIDS PDSLENIPEK</td>\n",
       "    </tr>\n",
       "    <tr>\n",
       "      <th>...</th>\n",
       "      <td>...</td>\n",
       "      <td>...</td>\n",
       "      <td>...</td>\n",
       "      <td>...</td>\n",
       "      <td>...</td>\n",
       "      <td>...</td>\n",
       "    </tr>\n",
       "    <tr>\n",
       "      <th>284</th>\n",
       "      <td>Eg5</td>\n",
       "      <td>2</td>\n",
       "      <td>589.3304</td>\n",
       "      <td>49-53</td>\n",
       "      <td>0</td>\n",
       "      <td>EVSVR</td>\n",
       "    </tr>\n",
       "    <tr>\n",
       "      <th>285</th>\n",
       "      <td>Eg5</td>\n",
       "      <td>2</td>\n",
       "      <td>576.2987</td>\n",
       "      <td>275-280</td>\n",
       "      <td>0</td>\n",
       "      <td>SGAVDK</td>\n",
       "    </tr>\n",
       "    <tr>\n",
       "      <th>286</th>\n",
       "      <td>Eg5</td>\n",
       "      <td>2</td>\n",
       "      <td>533.2929</td>\n",
       "      <td>12-15</td>\n",
       "      <td>1</td>\n",
       "      <td>KEEK</td>\n",
       "    </tr>\n",
       "    <tr>\n",
       "      <th>287</th>\n",
       "      <td>Eg5</td>\n",
       "      <td>2</td>\n",
       "      <td>529.3708</td>\n",
       "      <td>193-197</td>\n",
       "      <td>0</td>\n",
       "      <td>GVIIK</td>\n",
       "    </tr>\n",
       "    <tr>\n",
       "      <th>288</th>\n",
       "      <td>Eg5</td>\n",
       "      <td>2</td>\n",
       "      <td>502.3096</td>\n",
       "      <td>217-221</td>\n",
       "      <td>1</td>\n",
       "      <td>GAAKR</td>\n",
       "    </tr>\n",
       "  </tbody>\n",
       "</table>\n",
       "<p>289 rows × 6 columns</p>\n",
       "</div>"
      ],
      "text/plain": [
       "    Protein  Missed Cleavages Max       Mass Position  Missed Clevages  \\\n",
       "0      RhoA                     1  5397.5817    52-98                1   \n",
       "1      RhoA                     1  4763.2310    28-68                1   \n",
       "2      RhoA                     1  4148.0606   69-104                1   \n",
       "3      RhoA                     1  3777.8971    19-51                1   \n",
       "4      RhoA                     1  3407.6749    69-98                0   \n",
       "..      ...                   ...        ...      ...              ...   \n",
       "284     Eg5                     2   589.3304    49-53                0   \n",
       "285     Eg5                     2   576.2987  275-280                0   \n",
       "286     Eg5                     2   533.2929    12-15                1   \n",
       "287     Eg5                     2   529.3708  193-197                0   \n",
       "288     Eg5                     2   502.3096  217-221                1   \n",
       "\n",
       "                                              Sequence  \n",
       "0    QVELALWDTAGQEDYDRLRP LSYPDTDVILMCFSIDSPDS LENIPEK  \n",
       "1          DQFPEVYVPTVFENYVADIE VDGKQVELALWDTAGQEDYD R  \n",
       "2                LRPLSYPDTDVILMCFSIDS PDSLENIPEKWTPEVK  \n",
       "3                   TCLLIVFSKDQFPEVYVPTV FENYVADIEVDGK  \n",
       "4                      LRPLSYPDTDVILMCFSIDS PDSLENIPEK  \n",
       "..                                                 ...  \n",
       "284                                              EVSVR  \n",
       "285                                             SGAVDK  \n",
       "286                                               KEEK  \n",
       "287                                              GVIIK  \n",
       "288                                              GAAKR  \n",
       "\n",
       "[289 rows x 6 columns]"
      ]
     },
     "execution_count": 4,
     "metadata": {},
     "output_type": "execute_result"
    }
   ],
   "source": [
    "df"
   ]
  },
  {
   "cell_type": "code",
   "execution_count": 25,
   "id": "copyrighted-monthly",
   "metadata": {},
   "outputs": [],
   "source": [
    "folder_plots = 'plots'"
   ]
  },
  {
   "cell_type": "code",
   "execution_count": 5,
   "id": "elder-revision",
   "metadata": {},
   "outputs": [],
   "source": [
    "mz_range_min = 350\n",
    "mz_range_max = 1500"
   ]
  },
  {
   "cell_type": "code",
   "execution_count": 38,
   "id": "considerable-march",
   "metadata": {},
   "outputs": [],
   "source": [
    "col_prot = \"Protein\"\n",
    "col_mc_max = \"Missed Cleavages Max\"\n",
    "col_mc = \"Missed Cleavages\"\n",
    "col_mass = \"Mass\"\n",
    "col_pos = \"Position\"\n",
    "col_seq = \"Sequence\"\n",
    "col_pep_count = \"Peptide Count\"\n",
    "col_mz = \"m/z\"\n",
    "col_valid_mz = \"valid m/z range\"\n",
    "col_ref = 'reference'"
   ]
  },
  {
   "cell_type": "code",
   "execution_count": 7,
   "id": "secondary-imperial",
   "metadata": {},
   "outputs": [],
   "source": [
    "aa_pos_list = [\"R\", \"H\"]\n",
    "aa_pos_regex = \"|\".join(aa_pos_list)"
   ]
  },
  {
   "cell_type": "code",
   "execution_count": 8,
   "id": "compressed-detail",
   "metadata": {},
   "outputs": [
    {
     "data": {
      "text/plain": [
       "'R|H'"
      ]
     },
     "execution_count": 8,
     "metadata": {},
     "output_type": "execute_result"
    }
   ],
   "source": [
    "aa_pos_regex"
   ]
  },
  {
   "cell_type": "code",
   "execution_count": 9,
   "id": "hindu-david",
   "metadata": {},
   "outputs": [],
   "source": [
    "aa_lys = \"K\""
   ]
  },
  {
   "cell_type": "code",
   "execution_count": 10,
   "id": "amended-coordinator",
   "metadata": {},
   "outputs": [],
   "source": [
    "col_pos_count = \"sum_pos\"\n",
    "col_lys_count = \"sum_lys\""
   ]
  },
  {
   "cell_type": "code",
   "execution_count": 11,
   "id": "dependent-kinase",
   "metadata": {},
   "outputs": [],
   "source": [
    "df[col_pos_count] = df[col_seq].str.count(aa_pos_regex)\n",
    "df[col_lys_count] = df[col_seq].str.count(aa_lys)"
   ]
  },
  {
   "cell_type": "code",
   "execution_count": 12,
   "id": "considered-tribune",
   "metadata": {},
   "outputs": [],
   "source": [
    "df = map_cols(df)"
   ]
  },
  {
   "cell_type": "code",
   "execution_count": 13,
   "id": "freelance-hands",
   "metadata": {},
   "outputs": [],
   "source": [
    "df_lys_only = df[df[col_seq].str.contains(aa_lys)].reset_index(drop=True)"
   ]
  },
  {
   "cell_type": "code",
   "execution_count": 14,
   "id": "attached-intersection",
   "metadata": {},
   "outputs": [],
   "source": [
    "df_plus_one_lys_only = df_lys_only.copy()\n",
    "df_plus_one_lys_only[col_pos_count] += 1\n",
    "df_plus_one_lys_only = map_cols(df_plus_one_lys_only)"
   ]
  },
  {
   "cell_type": "code",
   "execution_count": 15,
   "id": "pleased-valve",
   "metadata": {},
   "outputs": [],
   "source": [
    "df_plus_two_lys_only = df_lys_only.copy()\n",
    "df_plus_two_lys_only[col_pos_count] += 2\n",
    "df_plus_two_lys_only = map_cols(df_plus_two_lys_only)"
   ]
  },
  {
   "cell_type": "code",
   "execution_count": 16,
   "id": "diagnostic-chair",
   "metadata": {},
   "outputs": [
    {
     "data": {
      "text/html": [
       "<div>\n",
       "<style scoped>\n",
       "    .dataframe tbody tr th:only-of-type {\n",
       "        vertical-align: middle;\n",
       "    }\n",
       "\n",
       "    .dataframe tbody tr th {\n",
       "        vertical-align: top;\n",
       "    }\n",
       "\n",
       "    .dataframe thead th {\n",
       "        text-align: right;\n",
       "    }\n",
       "</style>\n",
       "<table border=\"1\" class=\"dataframe\">\n",
       "  <thead>\n",
       "    <tr style=\"text-align: right;\">\n",
       "      <th></th>\n",
       "      <th>Protein</th>\n",
       "      <th>Missed Cleavages Max</th>\n",
       "      <th>Mass</th>\n",
       "      <th>Position</th>\n",
       "      <th>Missed Clevages</th>\n",
       "      <th>Sequence</th>\n",
       "      <th>sum_pos</th>\n",
       "      <th>sum_lys</th>\n",
       "      <th>m/z</th>\n",
       "      <th>valid m/z range</th>\n",
       "    </tr>\n",
       "  </thead>\n",
       "  <tbody>\n",
       "    <tr>\n",
       "      <th>0</th>\n",
       "      <td>RhoA</td>\n",
       "      <td>1</td>\n",
       "      <td>5397.5817</td>\n",
       "      <td>52-98</td>\n",
       "      <td>1</td>\n",
       "      <td>QVELALWDTAGQEDYDRLRP LSYPDTDVILMCFSIDSPDS LENIPEK</td>\n",
       "      <td>2</td>\n",
       "      <td>1</td>\n",
       "      <td>2698.79085</td>\n",
       "      <td>Too High</td>\n",
       "    </tr>\n",
       "    <tr>\n",
       "      <th>1</th>\n",
       "      <td>RhoA</td>\n",
       "      <td>1</td>\n",
       "      <td>4763.2310</td>\n",
       "      <td>28-68</td>\n",
       "      <td>1</td>\n",
       "      <td>DQFPEVYVPTVFENYVADIE VDGKQVELALWDTAGQEDYD R</td>\n",
       "      <td>1</td>\n",
       "      <td>1</td>\n",
       "      <td>4763.23100</td>\n",
       "      <td>Invalid</td>\n",
       "    </tr>\n",
       "    <tr>\n",
       "      <th>2</th>\n",
       "      <td>RhoA</td>\n",
       "      <td>1</td>\n",
       "      <td>4148.0606</td>\n",
       "      <td>69-104</td>\n",
       "      <td>1</td>\n",
       "      <td>LRPLSYPDTDVILMCFSIDS PDSLENIPEKWTPEVK</td>\n",
       "      <td>1</td>\n",
       "      <td>2</td>\n",
       "      <td>4148.06060</td>\n",
       "      <td>Invalid</td>\n",
       "    </tr>\n",
       "    <tr>\n",
       "      <th>3</th>\n",
       "      <td>RhoA</td>\n",
       "      <td>1</td>\n",
       "      <td>3777.8971</td>\n",
       "      <td>19-51</td>\n",
       "      <td>1</td>\n",
       "      <td>TCLLIVFSKDQFPEVYVPTV FENYVADIEVDGK</td>\n",
       "      <td>0</td>\n",
       "      <td>2</td>\n",
       "      <td>inf</td>\n",
       "      <td>Invalid</td>\n",
       "    </tr>\n",
       "    <tr>\n",
       "      <th>4</th>\n",
       "      <td>RhoA</td>\n",
       "      <td>1</td>\n",
       "      <td>3407.6749</td>\n",
       "      <td>69-98</td>\n",
       "      <td>0</td>\n",
       "      <td>LRPLSYPDTDVILMCFSIDS PDSLENIPEK</td>\n",
       "      <td>1</td>\n",
       "      <td>1</td>\n",
       "      <td>3407.67490</td>\n",
       "      <td>Invalid</td>\n",
       "    </tr>\n",
       "    <tr>\n",
       "      <th>...</th>\n",
       "      <td>...</td>\n",
       "      <td>...</td>\n",
       "      <td>...</td>\n",
       "      <td>...</td>\n",
       "      <td>...</td>\n",
       "      <td>...</td>\n",
       "      <td>...</td>\n",
       "      <td>...</td>\n",
       "      <td>...</td>\n",
       "      <td>...</td>\n",
       "    </tr>\n",
       "    <tr>\n",
       "      <th>202</th>\n",
       "      <td>Eg5</td>\n",
       "      <td>2</td>\n",
       "      <td>590.3144</td>\n",
       "      <td>13-17</td>\n",
       "      <td>1</td>\n",
       "      <td>EEKGK</td>\n",
       "      <td>0</td>\n",
       "      <td>2</td>\n",
       "      <td>inf</td>\n",
       "      <td>Invalid</td>\n",
       "    </tr>\n",
       "    <tr>\n",
       "      <th>203</th>\n",
       "      <td>Eg5</td>\n",
       "      <td>2</td>\n",
       "      <td>576.2987</td>\n",
       "      <td>275-280</td>\n",
       "      <td>0</td>\n",
       "      <td>SGAVDK</td>\n",
       "      <td>0</td>\n",
       "      <td>1</td>\n",
       "      <td>inf</td>\n",
       "      <td>Invalid</td>\n",
       "    </tr>\n",
       "    <tr>\n",
       "      <th>204</th>\n",
       "      <td>Eg5</td>\n",
       "      <td>2</td>\n",
       "      <td>533.2929</td>\n",
       "      <td>12-15</td>\n",
       "      <td>1</td>\n",
       "      <td>KEEK</td>\n",
       "      <td>0</td>\n",
       "      <td>2</td>\n",
       "      <td>inf</td>\n",
       "      <td>Invalid</td>\n",
       "    </tr>\n",
       "    <tr>\n",
       "      <th>205</th>\n",
       "      <td>Eg5</td>\n",
       "      <td>2</td>\n",
       "      <td>529.3708</td>\n",
       "      <td>193-197</td>\n",
       "      <td>0</td>\n",
       "      <td>GVIIK</td>\n",
       "      <td>0</td>\n",
       "      <td>1</td>\n",
       "      <td>inf</td>\n",
       "      <td>Invalid</td>\n",
       "    </tr>\n",
       "    <tr>\n",
       "      <th>206</th>\n",
       "      <td>Eg5</td>\n",
       "      <td>2</td>\n",
       "      <td>502.3096</td>\n",
       "      <td>217-221</td>\n",
       "      <td>1</td>\n",
       "      <td>GAAKR</td>\n",
       "      <td>1</td>\n",
       "      <td>1</td>\n",
       "      <td>502.30960</td>\n",
       "      <td>Invalid</td>\n",
       "    </tr>\n",
       "  </tbody>\n",
       "</table>\n",
       "<p>207 rows × 10 columns</p>\n",
       "</div>"
      ],
      "text/plain": [
       "    Protein  Missed Cleavages Max       Mass Position  Missed Clevages  \\\n",
       "0      RhoA                     1  5397.5817    52-98                1   \n",
       "1      RhoA                     1  4763.2310    28-68                1   \n",
       "2      RhoA                     1  4148.0606   69-104                1   \n",
       "3      RhoA                     1  3777.8971    19-51                1   \n",
       "4      RhoA                     1  3407.6749    69-98                0   \n",
       "..      ...                   ...        ...      ...              ...   \n",
       "202     Eg5                     2   590.3144    13-17                1   \n",
       "203     Eg5                     2   576.2987  275-280                0   \n",
       "204     Eg5                     2   533.2929    12-15                1   \n",
       "205     Eg5                     2   529.3708  193-197                0   \n",
       "206     Eg5                     2   502.3096  217-221                1   \n",
       "\n",
       "                                              Sequence  sum_pos  sum_lys  \\\n",
       "0    QVELALWDTAGQEDYDRLRP LSYPDTDVILMCFSIDSPDS LENIPEK        2        1   \n",
       "1          DQFPEVYVPTVFENYVADIE VDGKQVELALWDTAGQEDYD R        1        1   \n",
       "2                LRPLSYPDTDVILMCFSIDS PDSLENIPEKWTPEVK        1        2   \n",
       "3                   TCLLIVFSKDQFPEVYVPTV FENYVADIEVDGK        0        2   \n",
       "4                      LRPLSYPDTDVILMCFSIDS PDSLENIPEK        1        1   \n",
       "..                                                 ...      ...      ...   \n",
       "202                                              EEKGK        0        2   \n",
       "203                                             SGAVDK        0        1   \n",
       "204                                               KEEK        0        2   \n",
       "205                                              GVIIK        0        1   \n",
       "206                                              GAAKR        1        1   \n",
       "\n",
       "            m/z valid m/z range  \n",
       "0    2698.79085        Too High  \n",
       "1    4763.23100         Invalid  \n",
       "2    4148.06060         Invalid  \n",
       "3           inf         Invalid  \n",
       "4    3407.67490         Invalid  \n",
       "..          ...             ...  \n",
       "202         inf         Invalid  \n",
       "203         inf         Invalid  \n",
       "204         inf         Invalid  \n",
       "205         inf         Invalid  \n",
       "206   502.30960         Invalid  \n",
       "\n",
       "[207 rows x 10 columns]"
      ]
     },
     "execution_count": 16,
     "metadata": {},
     "output_type": "execute_result"
    }
   ],
   "source": [
    "df_lys_only"
   ]
  },
  {
   "cell_type": "code",
   "execution_count": 17,
   "id": "international-thumb",
   "metadata": {},
   "outputs": [],
   "source": [
    "palette = {\"Too High\": \"#e03a5c\", \"Invalid\": \"#af0c2d\", \"Too Low\": \"#e36d5a\", \"Valid\": \"#49ab4d\"}"
   ]
  },
  {
   "cell_type": "code",
   "execution_count": 18,
   "id": "generous-supplement",
   "metadata": {},
   "outputs": [],
   "source": [
    "#sns.displot(df, kind='hist', x=col_pos_count, hue=col_valid_mz, col=col_mc_max, row=col_prot, discrete=True, multiple=\"stack\", palette=palette) # multiple=\"dodge\","
   ]
  },
  {
   "cell_type": "code",
   "execution_count": 27,
   "id": "empty-mapping",
   "metadata": {},
   "outputs": [
    {
     "data": {
      "image/png": "[encoded data removed]",
      "text/plain": [
       "<Figure size 805.625x720 with 4 Axes>"
      ]
     },
     "metadata": {
      "needs_background": "light"
     },
     "output_type": "display_data"
    }
   ],
   "source": [
    "fg_lys_only = sns.displot(df_lys_only, kind='hist', x=col_pos_count, hue=col_valid_mz, col=col_mc_max, row=col_prot, discrete=True, multiple=\"stack\", palette=palette) # multiple=\"dodge\","
   ]
  },
  {
   "cell_type": "code",
   "execution_count": 31,
   "id": "italic-disaster",
   "metadata": {},
   "outputs": [
    {
     "data": {
      "image/png": "[encoded data removed]",
      "text/plain": [
       "<Figure size 805.625x720 with 4 Axes>"
      ]
     },
     "metadata": {
      "needs_background": "light"
     },
     "output_type": "display_data"
    }
   ],
   "source": [
    "fg_lys_only_plus_one = sns.displot(df_plus_one_lys_only, kind='hist', x=col_pos_count, hue=col_valid_mz, col=col_mc_max, row=col_prot, discrete=True, palette=palette, multiple=\"stack\") # multiple=\"dodge\","
   ]
  },
  {
   "cell_type": "code",
   "execution_count": 30,
   "id": "hungry-gossip",
   "metadata": {},
   "outputs": [
    {
     "data": {
      "image/png": "[encoded data removed]",
      "text/plain": [
       "<Figure size 805.625x720 with 4 Axes>"
      ]
     },
     "metadata": {
      "needs_background": "light"
     },
     "output_type": "display_data"
    }
   ],
   "source": [
    "fg_lys_only_plus_two = sns.displot(df_plus_two_lys_only, kind='hist', x=col_pos_count, hue=col_valid_mz, col=col_mc_max, row=col_prot, discrete=True, palette=palette, multiple=\"stack\") # multiple=\"dodge\","
   ]
  },
  {
   "cell_type": "code",
   "execution_count": 39,
   "id": "floppy-layer",
   "metadata": {},
   "outputs": [],
   "source": [
    "df_vc_0 = df_lys_only.groupby([col_prot, col_mc_max])[col_valid_mz].value_counts().reset_index(name=col_pep_count)\n",
    "df_vc_0[col_ref] = \"0\"\n",
    "df_vc_1 = df_plus_one_lys_only.groupby([col_prot, col_mc_max])[col_valid_mz].value_counts().reset_index(name=col_pep_count)\n",
    "df_vc_1[col_ref] = \"+1\"\n",
    "df_vc_2 = df_plus_two_lys_only.groupby([col_prot, col_mc_max])[col_valid_mz].value_counts().reset_index(name=col_pep_count)\n",
    "df_vc_2[col_ref] = \"+2\""
   ]
  },
  {
   "cell_type": "code",
   "execution_count": 40,
   "id": "medium-jefferson",
   "metadata": {},
   "outputs": [],
   "source": [
    "df_vc_ov = pd.concat([df_vc_0, df_vc_1, df_vc_2])"
   ]
  },
  {
   "cell_type": "code",
   "execution_count": 41,
   "id": "upset-international",
   "metadata": {},
   "outputs": [
    {
     "data": {
      "image/png": "[encoded data removed]",
      "text/plain": [
       "<Figure size 805.625x720 with 4 Axes>"
      ]
     },
     "metadata": {
      "needs_background": "light"
     },
     "output_type": "display_data"
    }
   ],
   "source": [
    "fg_lys_only_ov = sns.catplot(data=df_vc_ov, kind='bar', x=col_ref, y=col_pep_count, hue=col_valid_mz, row=col_prot, col=col_mc_max, palette=palette, sharey=True, sharex=False,linewidth=1.2, edgecolor=\"black\") # multiple=\"dodge\","
   ]
  },
  {
   "cell_type": "code",
   "execution_count": 46,
   "id": "better-anthropology",
   "metadata": {},
   "outputs": [
    {
     "data": {
      "text/html": [
       "<div>\n",
       "<style scoped>\n",
       "    .dataframe tbody tr th:only-of-type {\n",
       "        vertical-align: middle;\n",
       "    }\n",
       "\n",
       "    .dataframe tbody tr th {\n",
       "        vertical-align: top;\n",
       "    }\n",
       "\n",
       "    .dataframe thead th {\n",
       "        text-align: right;\n",
       "    }\n",
       "</style>\n",
       "<table border=\"1\" class=\"dataframe\">\n",
       "  <thead>\n",
       "    <tr style=\"text-align: right;\">\n",
       "      <th></th>\n",
       "      <th>Protein</th>\n",
       "      <th>Missed Cleavages Max</th>\n",
       "      <th>valid m/z range</th>\n",
       "      <th>Peptide Count</th>\n",
       "      <th>reference</th>\n",
       "    </tr>\n",
       "  </thead>\n",
       "  <tbody>\n",
       "    <tr>\n",
       "      <th>4</th>\n",
       "      <td>Eg5</td>\n",
       "      <td>2</td>\n",
       "      <td>Valid</td>\n",
       "      <td>26</td>\n",
       "      <td>0</td>\n",
       "    </tr>\n",
       "    <tr>\n",
       "      <th>4</th>\n",
       "      <td>Eg5</td>\n",
       "      <td>2</td>\n",
       "      <td>Valid</td>\n",
       "      <td>56</td>\n",
       "      <td>+1</td>\n",
       "    </tr>\n",
       "    <tr>\n",
       "      <th>2</th>\n",
       "      <td>Eg5</td>\n",
       "      <td>2</td>\n",
       "      <td>Valid</td>\n",
       "      <td>67</td>\n",
       "      <td>+2</td>\n",
       "    </tr>\n",
       "    <tr>\n",
       "      <th>10</th>\n",
       "      <td>RhoA</td>\n",
       "      <td>2</td>\n",
       "      <td>Valid</td>\n",
       "      <td>7</td>\n",
       "      <td>0</td>\n",
       "    </tr>\n",
       "    <tr>\n",
       "      <th>12</th>\n",
       "      <td>RhoA</td>\n",
       "      <td>2</td>\n",
       "      <td>Valid</td>\n",
       "      <td>17</td>\n",
       "      <td>+1</td>\n",
       "    </tr>\n",
       "    <tr>\n",
       "      <th>8</th>\n",
       "      <td>RhoA</td>\n",
       "      <td>2</td>\n",
       "      <td>Valid</td>\n",
       "      <td>30</td>\n",
       "      <td>+2</td>\n",
       "    </tr>\n",
       "  </tbody>\n",
       "</table>\n",
       "</div>"
      ],
      "text/plain": [
       "   Protein  Missed Cleavages Max valid m/z range  Peptide Count reference\n",
       "4      Eg5                     2           Valid             26         0\n",
       "4      Eg5                     2           Valid             56        +1\n",
       "2      Eg5                     2           Valid             67        +2\n",
       "10    RhoA                     2           Valid              7         0\n",
       "12    RhoA                     2           Valid             17        +1\n",
       "8     RhoA                     2           Valid             30        +2"
      ]
     },
     "execution_count": 46,
     "metadata": {},
     "output_type": "execute_result"
    }
   ],
   "source": [
    "df_valid_only_mc_2 = df_vc_ov[(df_vc_ov[col_valid_mz] == 'Valid') & (df_vc_ov[col_mc_max] == 2)].sort_values([col_prot])\n",
    "df_valid_only_mc_2"
   ]
  },
  {
   "cell_type": "code",
   "execution_count": 54,
   "id": "warming-freeze",
   "metadata": {},
   "outputs": [
    {
     "data": {
      "image/png": "[encoded data removed]",
      "text/plain": [
       "<Figure size 422.125x360 with 1 Axes>"
      ]
     },
     "metadata": {
      "needs_background": "light"
     },
     "output_type": "display_data"
    }
   ],
   "source": [
    "fg_lys_only_ov_valid = sns.relplot(data=df_valid_only_mc_2, kind='line', x=col_ref, y=col_pep_count, hue=col_prot, palette='muted') # multiple=\"dodge\","
   ]
  },
  {
   "cell_type": "code",
   "execution_count": 60,
   "id": "advance-invention",
   "metadata": {},
   "outputs": [],
   "source": [
    "fg_lys_only_ov.savefig(folder_plots + \"/lys_only_ov.png\")\n",
    "fg_lys_only_ov_valid.savefig(folder_plots + \"/lys_only_ov_only_valid.png\")"
   ]
  },
  {
   "cell_type": "code",
   "execution_count": 61,
   "id": "successful-german",
   "metadata": {},
   "outputs": [],
   "source": [
    "fg_lys_only.savefig(folder_plots + \"/lys_only_plus_0.png\")\n",
    "fg_lys_only_plus_one.savefig(folder_plots + \"/lys_only_plus_1.png\")\n",
    "fg_lys_only_plus_two.savefig(folder_plots + \"/lys_only_plus_2.png\")"
   ]
  },
  {
   "cell_type": "code",
   "execution_count": null,
   "id": "flush-plasma",
   "metadata": {},
   "outputs": [],
   "source": []
  }
 ],
 "metadata": {
  "kernelspec": {
   "display_name": "Python 3.7.6 64-bit ('plot': conda)",
   "language": "python",
   "name": "python37664bitplotcondaedb99c625b2348bc84bc74439e3c2281"
  },
  "language_info": {
   "codemirror_mode": {
    "name": "ipython",
    "version": 3
   },
   "file_extension": ".py",
   "mimetype": "text/x-python",
   "name": "python",
   "nbconvert_exporter": "python",
   "pygments_lexer": "ipython3",
   "version": "3.7.10"
  }
 },
 "nbformat": 4,
 "nbformat_minor": 5
}
